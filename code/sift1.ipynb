{
 "cells": [
  {
   "cell_type": "markdown",
   "metadata": {},
   "source": [
    "## Image Matching\n",
    "\n",
    "Image matching is an important concept in computer vision and object recognition. The images of the same subject can be acquired from different angles, lighting and scales. Therefore, it is best to find features that are descriptive and invariant to the aforementioned variations in order to categorize the images correctly.\n",
    "\n",
    "SIFT helps locate the local features in an image, commonly known as the ‘keypoints‘ of the image. These keypoints are scale & rotation invariant that can be used for various computer vision applications, like image matching, object detection, scene detection, etc.\n",
    "\n",
    "We can also use the keypoints generated using SIFT as features for the image during model training. The major advantage of SIFT features, over edge features or hog features, is that they are not affected by the size or orientation of the image."
   ]
  },
  {
   "cell_type": "code",
   "execution_count": 1,
   "metadata": {},
   "outputs": [],
   "source": [
    "import numpy as np\n",
    "import cv2\n",
    "from matplotlib import pyplot as plt\n",
    "import os\n",
    "from natsort import natsorted\n",
    "import pandas as pd\n",
    "from collections import Counter"
   ]
  },
  {
   "cell_type": "raw",
   "metadata": {},
   "source": [
    "### Now, for each image, we are going to generate the SIFT features. First, we have to construct a SIFT object and then use the function detectAndCompute to get the keypoints. It will return two values – the keypoints and the descriptors.\n",
    "\n",
    "Next, match the features of each possible pair of images using match() from the BFmatcher (brute force match) module.\n",
    "\n"
   ]
  },
  {
   "cell_type": "code",
   "execution_count": 91,
   "metadata": {},
   "outputs": [
    {
     "name": "stderr",
     "output_type": "stream",
     "text": [
      "C:\\Users\\Miloni Mittal\\Anaconda3\\ANACONDA\\lib\\site-packages\\ipykernel_launcher.py:18: FutureWarning: elementwise comparison failed; returning scalar instead, but in the future will perform elementwise comparison\n"
     ]
    },
    {
     "name": "stdout",
     "output_type": "stream",
     "text": [
      "1_P1_S1_1.jpg 1_P1_S1_1.jpg 1.0\n",
      "1_P1_S1_1.jpg 1_P1_S1_2.jpg 0.0\n",
      "1_P1_S1_1.jpg 1_P1_S1_3.jpg 0.0\n",
      "1_P1_S1_1.jpg 1_P1_S1_4.jpg 0.0\n",
      "1_P1_S1_1.jpg 1_P1_S1_5.jpg 0.04\n",
      "1_P1_S1_1.jpg 1_P1_S2_1.jpg 0.0\n",
      "1_P1_S1_1.jpg 1_P1_S2_2.jpg 0.125\n",
      "1_P1_S1_1.jpg 1_P1_S2_3.jpg 0.0\n",
      "1_P1_S1_1.jpg 1_P1_S2_4.jpg 0.0\n",
      "1_P1_S1_1.jpg 1_P1_S2_5.jpg 0.07692307692307693\n",
      "1_P1_S1_1.jpg 1_P2_S1_1.jpg 0.0\n",
      "1_P1_S1_1.jpg 1_P2_S1_2.jpg 0.04\n",
      "1_P1_S1_1.jpg 1_P2_S1_3.jpg 0.0\n",
      "1_P1_S1_1.jpg 1_P2_S1_4.jpg 0.0\n",
      "1_P1_S1_1.jpg 1_P2_S1_5.jpg 0.0\n",
      "1_P1_S1_1.jpg 1_P2_S2_1.jpg 0.04\n",
      "1_P1_S1_1.jpg 1_P2_S2_2.jpg 0.0\n",
      "1_P1_S1_1.jpg 1_P2_S2_3.jpg 0.0\n",
      "1_P1_S1_1.jpg 1_P2_S2_4.jpg 0.0\n",
      "1_P1_S1_1.jpg 1_P2_S2_5.jpg 0.0\n",
      "1_P1_S1_1.jpg 2_P1_S1_1.jpg 0.0\n",
      "1_P1_S1_1.jpg 2_P1_S1_2.jpg 0.0\n",
      "1_P1_S1_1.jpg 2_P1_S1_3.jpg 0.0625\n",
      "1_P1_S1_1.jpg 2_P1_S1_4.jpg 0.0\n",
      "1_P1_S1_1.jpg 2_P1_S1_5.jpg 0.0\n",
      "1_P1_S1_1.jpg 2_P1_S2_1.jpg 0.0\n",
      "1_P1_S1_1.jpg 2_P1_S2_2.jpg 0.0\n",
      "1_P1_S1_1.jpg 2_P1_S2_3.jpg 0.0\n",
      "1_P1_S1_1.jpg 2_P1_S2_4.jpg 0.0\n",
      "1_P1_S1_1.jpg 2_P1_S2_5.jpg 0.0\n",
      "1_P1_S1_1.jpg 2_P2_S1_1.jpg 0.0\n",
      "1_P1_S1_1.jpg 2_P2_S1_2.jpg 0.16\n",
      "1_P1_S1_1.jpg 2_P2_S1_3.jpg 0.08\n",
      "1_P1_S1_1.jpg 2_P2_S1_4.jpg 0.08\n",
      "1_P1_S1_1.jpg 2_P2_S1_5.jpg 0.04\n",
      "1_P1_S1_1.jpg 2_P2_S2_1.jpg 0.04\n",
      "1_P1_S1_1.jpg 2_P2_S2_2.jpg 0.0\n",
      "1_P1_S1_1.jpg 2_P2_S2_3.jpg 0.0\n",
      "1_P1_S1_1.jpg 2_P2_S2_4.jpg 0.0\n",
      "1_P1_S1_1.jpg 2_P2_S2_5.jpg 0.0\n",
      "1_P1_S1_1.jpg 3_P1_S1_1.jpg 0.0\n",
      "1_P1_S1_1.jpg 3_P1_S1_2.jpg 0.0\n",
      "1_P1_S1_1.jpg 3_P1_S1_3.jpg 0.04\n",
      "1_P1_S1_1.jpg 3_P1_S1_4.jpg 0.0\n",
      "1_P1_S1_1.jpg 3_P1_S1_5.jpg 0.0\n",
      "1_P1_S1_1.jpg 3_P1_S2_1.jpg 0.0\n",
      "1_P1_S1_1.jpg 3_P1_S2_2.jpg 0.0\n",
      "1_P1_S1_1.jpg 3_P1_S2_3.jpg 0.0\n",
      "1_P1_S1_1.jpg 3_P1_S2_4.jpg 0.0\n",
      "1_P1_S1_1.jpg 3_P1_S2_5.jpg 0.0\n",
      "1_P1_S1_1.jpg 3_P2_S1_1.jpg 0.04\n",
      "1_P1_S1_1.jpg 3_P2_S1_2.jpg 0.04\n",
      "1_P1_S1_1.jpg 3_P2_S1_3.jpg 0.0\n",
      "1_P1_S1_1.jpg 3_P2_S1_4.jpg 0.04\n",
      "1_P1_S1_1.jpg 3_P2_S2_4.jpg 0.0\n",
      "1_P1_S1_1.jpg 4_P1_S1_1.jpg 0.0\n",
      "1_P1_S1_1.jpg 4_P1_S1_2.jpg 0.0\n",
      "1_P1_S1_1.jpg 4_P1_S1_3.jpg 0.0\n",
      "1_P1_S1_1.jpg 4_P1_S1_5.jpg 0.0\n",
      "1_P1_S1_1.jpg 4_P1_S2_1.jpg 0.0\n",
      "1_P1_S1_1.jpg 4_P1_S2_2.jpg 0.0\n",
      "1_P1_S1_1.jpg 4_P1_S2_3.jpg 0.0\n",
      "1_P1_S1_1.jpg 4_P1_S2_4.jpg 0.0\n",
      "1_P1_S1_1.jpg 4_P1_S2_5.jpg 0.0\n",
      "1_P1_S1_1.jpg 4_P2_S1_1.jpg 0.0\n",
      "1_P1_S1_1.jpg 4_P2_S1_2.jpg 0.2\n",
      "1_P1_S1_1.jpg 4_P2_S1_3.jpg 0.0\n",
      "1_P1_S1_1.jpg 4_P2_S1_4.jpg 0.0\n",
      "1_P1_S1_1.jpg 4_P2_S1_5.jpg 0.0\n",
      "1_P1_S1_1.jpg 4_P2_S2_1.jpg 0.0\n",
      "1_P1_S1_1.jpg 4_P2_S2_2.jpg 0.0\n",
      "1_P1_S1_1.jpg 4_P2_S2_3.jpg 0.04\n",
      "1_P1_S1_1.jpg 4_P2_S2_4.jpg 0.04\n",
      "1_P1_S1_1.jpg 4_P2_S2_5.jpg 0.04\n",
      "1_P1_S1_1.jpg 5_P1_S1_1.jpg 0.0\n",
      "1_P1_S1_1.jpg 5_P1_S1_3.jpg 0.0\n",
      "1_P1_S1_1.jpg 5_P1_S1_5.jpg 0.0\n",
      "1_P1_S1_1.jpg 5_P1_S2_1.jpg 0.0\n",
      "1_P1_S1_1.jpg 5_P1_S2_2.jpg 0.0\n",
      "1_P1_S1_1.jpg 5_P1_S2_3.jpg 0.0\n",
      "1_P1_S1_1.jpg 5_P1_S2_4.jpg 0.0\n",
      "1_P1_S1_1.jpg 5_P1_S2_5.jpg 0.04\n",
      "1_P1_S1_1.jpg 5_P2_S1_1.jpg 0.0\n",
      "1_P1_S1_1.jpg 5_P2_S1_2.jpg 0.07692307692307693\n",
      "1_P1_S1_1.jpg 5_P2_S1_3.jpg 0.0\n",
      "1_P1_S1_1.jpg 5_P2_S1_4.jpg 0.0\n",
      "1_P1_S1_1.jpg 5_P2_S1_5.jpg 0.1\n",
      "1_P1_S1_1.jpg 5_P2_S2_1.jpg 0.0\n",
      "1_P1_S1_1.jpg 5_P2_S2_2.jpg 0.0\n",
      "1_P1_S1_1.jpg 5_P2_S2_3.jpg 0.04\n",
      "1_P1_S1_1.jpg 5_P2_S2_4.jpg 0.0\n",
      "1_P1_S1_1.jpg 5_P2_S2_5.jpg 0.0\n",
      "1_P1_S1_1.jpg 6_P1_S1_1.jpg 0.0\n",
      "1_P1_S1_1.jpg 6_P1_S1_2.jpg 0.04\n",
      "1_P1_S1_1.jpg 6_P1_S1_3.jpg 0.0\n",
      "1_P1_S1_1.jpg 6_P1_S1_4.jpg 0.0\n",
      "1_P1_S1_1.jpg 6_P1_S1_5.jpg 0.0\n",
      "1_P1_S1_1.jpg 6_P1_S2_1.jpg 0.0\n",
      "1_P1_S1_1.jpg 6_P1_S2_2.jpg 0.0\n",
      "1_P1_S1_1.jpg 6_P1_S2_3.jpg 0.0\n",
      "1_P1_S1_1.jpg 6_P1_S2_4.jpg 0.047619047619047616\n",
      "1_P1_S1_1.jpg 6_P2_S1_1.jpg 0.0\n",
      "1_P1_S1_1.jpg 6_P2_S1_2.jpg 0.0\n",
      "1_P1_S1_1.jpg 6_P2_S1_3.jpg 0.0\n",
      "1_P1_S1_1.jpg 6_P2_S1_4.jpg 0.0\n",
      "1_P1_S1_1.jpg 6_P2_S1_5.jpg 0.0\n",
      "1_P1_S1_1.jpg 6_P2_S2_1.jpg 0.0\n",
      "1_P1_S1_1.jpg 6_P2_S2_2.jpg 0.0\n",
      "1_P1_S1_1.jpg 6_P2_S2_3.jpg 0.0\n",
      "1_P1_S1_1.jpg 6_P2_S2_4.jpg 0.04\n",
      "1_P1_S1_1.jpg 6_P2_S2_5.jpg 0.12\n",
      "1_P1_S1_1.jpg 7_P1_S1_2.jpg 0.0\n",
      "1_P1_S1_1.jpg 7_P1_S1_3.jpg 0.0\n",
      "1_P1_S1_1.jpg 7_P1_S2_2.jpg 0.0\n",
      "1_P1_S1_1.jpg 7_P1_S2_3.jpg 0.0\n",
      "1_P1_S1_1.jpg 7_P1_S2_4.jpg 0.0\n",
      "1_P1_S1_1.jpg 7_P2_S1_1.jpg 0.0\n",
      "1_P1_S1_1.jpg 7_P2_S1_3.jpg 0.07692307692307693\n",
      "1_P1_S1_1.jpg 7_P2_S2_1.jpg 0.041666666666666664\n",
      "1_P1_S1_1.jpg 7_P2_S2_2.jpg 0.04\n",
      "1_P1_S1_1.jpg 7_P2_S2_3.jpg 0.043478260869565216\n",
      "1_P1_S1_1.jpg 7_P2_S2_5.jpg 0.0\n",
      "1_P1_S1_1.jpg 8_P1_S1_3.jpg 0.0\n",
      "1_P1_S1_1.jpg 8_P1_S1_4.jpg 0.0\n",
      "1_P1_S1_1.jpg 8_P1_S1_5.jpg 0.0\n",
      "1_P1_S1_1.jpg 8_P1_S2_1.jpg 0.0\n",
      "1_P1_S1_1.jpg 8_P1_S2_2.jpg 0.0\n",
      "1_P1_S1_1.jpg 8_P1_S2_3.jpg 0.0\n",
      "1_P1_S1_1.jpg 8_P1_S2_4.jpg 0.0\n",
      "1_P1_S1_1.jpg 8_P1_S2_5.jpg 0.0\n",
      "1_P1_S1_1.jpg 8_P2_S1_1.jpg 0.0\n",
      "1_P1_S1_1.jpg 8_P2_S1_2.jpg 0.0\n",
      "1_P1_S1_1.jpg 8_P2_S1_3.jpg 0.0\n",
      "1_P1_S1_1.jpg 8_P2_S1_4.jpg 0.0\n",
      "1_P1_S1_1.jpg 8_P2_S1_5.jpg 0.0\n",
      "1_P1_S1_1.jpg 8_P2_S2_1.jpg 0.0\n",
      "1_P1_S1_1.jpg 8_P2_S2_2.jpg 0.0\n",
      "1_P1_S1_1.jpg 8_P2_S2_3.jpg 0.04\n",
      "1_P1_S1_1.jpg 8_P2_S2_4.jpg 0.04\n",
      "1_P1_S1_1.jpg 8_P2_S2_5.jpg 0.04\n",
      "1_P1_S1_1.jpg 9_P1_S1_1.jpg 0.0\n",
      "1_P1_S1_1.jpg 9_P1_S1_2.jpg 0.0\n",
      "1_P1_S1_1.jpg 9_P1_S1_3.jpg 0.0\n",
      "1_P1_S1_1.jpg 9_P1_S1_4.jpg 0.0\n",
      "1_P1_S1_1.jpg 9_P1_S1_5.jpg 0.0\n",
      "1_P1_S1_1.jpg 9_P1_S2_1.jpg 0.0\n",
      "1_P1_S1_1.jpg 9_P1_S2_2.jpg 0.0\n",
      "1_P1_S1_1.jpg 9_P1_S2_3.jpg 0.04\n",
      "1_P1_S1_1.jpg 9_P1_S2_4.jpg 0.08\n",
      "1_P1_S1_1.jpg 9_P1_S2_5.jpg 0.0\n",
      "1_P1_S1_1.jpg 9_P2_S1_1.jpg 0.0\n",
      "1_P1_S1_1.jpg 9_P2_S1_2.jpg 0.0\n",
      "1_P1_S1_1.jpg 9_P2_S1_3.jpg 0.0\n",
      "1_P1_S1_1.jpg 9_P2_S1_4.jpg 0.0\n",
      "1_P1_S1_1.jpg 9_P2_S1_5.jpg 0.0\n",
      "1_P1_S1_1.jpg 9_P2_S2_1.jpg 0.0\n",
      "1_P1_S1_1.jpg 9_P2_S2_2.jpg 0.04\n",
      "1_P1_S1_1.jpg 9_P2_S2_3.jpg 0.16\n",
      "1_P1_S1_1.jpg 9_P2_S2_4.jpg 0.04\n",
      "1_P1_S1_1.jpg 9_P2_S2_5.jpg 0.08\n",
      "1_P1_S1_1.jpg 10_P1_S1_1.jpg 0.0\n",
      "1_P1_S1_1.jpg 10_P1_S1_2.jpg 0.05555555555555555\n",
      "1_P1_S1_1.jpg 10_P1_S1_3.jpg 0.0\n",
      "1_P1_S1_1.jpg 10_P1_S1_4.jpg 0.04\n",
      "1_P1_S1_1.jpg 10_P1_S1_5.jpg 0.0\n",
      "1_P1_S1_1.jpg 10_P1_S2_1.jpg 0.0\n",
      "1_P1_S1_1.jpg 10_P1_S2_2.jpg 0.04\n",
      "1_P1_S1_1.jpg 10_P1_S2_3.jpg 0.0\n",
      "1_P1_S1_1.jpg 10_P1_S2_4.jpg 0.04\n",
      "1_P1_S1_1.jpg 10_P1_S2_5.jpg 0.0\n",
      "1_P1_S1_1.jpg 10_P2_S1_2.jpg 0.0\n",
      "1_P1_S1_1.jpg 10_P2_S1_3.jpg 0.0\n",
      "1_P1_S1_1.jpg 10_P2_S1_4.jpg 0.0\n",
      "1_P1_S1_1.jpg 10_P2_S1_5.jpg 0.0\n",
      "1_P1_S1_1.jpg 10_P2_S2_1.jpg 0.04\n",
      "1_P1_S1_1.jpg 10_P2_S2_2.jpg 0.0\n",
      "1_P1_S1_1.jpg 10_P2_S2_3.jpg 0.0\n",
      "1_P1_S1_1.jpg 10_P2_S2_4.jpg 0.04\n",
      "1_P1_S1_1.jpg 10_P2_S2_5.jpg 0.0\n",
      "1_P1_S1_1.jpg 11_P1_S1_1.jpg 0.0\n",
      "1_P1_S1_1.jpg 11_P1_S1_3.jpg 0.0\n",
      "1_P1_S1_1.jpg 11_P1_S1_4.jpg 0.0\n",
      "1_P1_S1_1.jpg 11_P1_S1_5.jpg 0.0\n",
      "1_P1_S1_1.jpg 11_P1_S2_2.jpg 0.0\n",
      "1_P1_S1_1.jpg 11_P1_S2_3.jpg 0.0\n",
      "1_P1_S1_1.jpg 11_P1_S2_4.jpg 0.0\n",
      "1_P1_S1_1.jpg 11_P1_S2_5.jpg 0.0\n",
      "1_P1_S1_1.jpg 11_P2_S1_1.jpg 0.0\n",
      "1_P1_S1_1.jpg 11_P2_S1_2.jpg 0.0\n",
      "1_P1_S1_1.jpg 11_P2_S1_3.jpg 0.0\n",
      "1_P1_S1_1.jpg 11_P2_S1_4.jpg 0.04\n",
      "1_P1_S1_1.jpg 11_P2_S1_5.jpg 0.0\n",
      "1_P1_S1_1.jpg 11_P2_S2_1.jpg 0.04\n",
      "1_P1_S1_1.jpg 11_P2_S2_2.jpg 0.0\n",
      "1_P1_S1_1.jpg 11_P2_S2_3.jpg 0.0\n",
      "1_P1_S1_1.jpg 11_P2_S2_4.jpg 0.0\n",
      "1_P1_S1_1.jpg 11_P2_S2_5.jpg 0.04\n",
      "1_P1_S1_1.jpg 12_P1_S1_1.jpg 0.0\n",
      "1_P1_S1_1.jpg 12_P1_S1_2.jpg 0.06666666666666667\n",
      "1_P1_S1_1.jpg 12_P1_S1_3.jpg 0.0\n",
      "1_P1_S1_1.jpg 12_P1_S1_4.jpg 0.0\n",
      "1_P1_S1_1.jpg 12_P1_S1_5.jpg 0.0\n",
      "1_P1_S1_1.jpg 12_P1_S2_2.jpg 0.0\n",
      "1_P1_S1_1.jpg 12_P1_S2_3.jpg 0.0\n",
      "1_P1_S1_1.jpg 12_P1_S2_4.jpg 0.0\n",
      "1_P1_S1_1.jpg 12_P2_S1_1.jpg 0.04\n",
      "1_P1_S1_1.jpg 12_P2_S1_2.jpg 0.04\n",
      "1_P1_S1_1.jpg 12_P2_S1_3.jpg 0.0\n",
      "1_P1_S1_1.jpg 12_P2_S1_4.jpg 0.0\n",
      "1_P1_S1_1.jpg 12_P2_S1_5.jpg 0.08\n",
      "1_P1_S1_1.jpg 12_P2_S2_1.jpg 0.04\n",
      "1_P1_S1_1.jpg 12_P2_S2_2.jpg 0.0\n",
      "1_P1_S1_1.jpg 12_P2_S2_3.jpg 0.0\n"
     ]
    },
    {
     "ename": "KeyboardInterrupt",
     "evalue": "",
     "output_type": "error",
     "traceback": [
      "\u001b[1;31m---------------------------------------------------------------------------\u001b[0m",
      "\u001b[1;31mKeyboardInterrupt\u001b[0m                         Traceback (most recent call last)",
      "\u001b[1;32m<ipython-input-91-794e040ff658>\u001b[0m in \u001b[0;36m<module>\u001b[1;34m\u001b[0m\n\u001b[0;32m     18\u001b[0m             \u001b[1;32mif\u001b[0m \u001b[1;33m(\u001b[0m\u001b[0mimg1\u001b[0m \u001b[1;33m!=\u001b[0m \u001b[0mimg2\u001b[0m\u001b[1;33m)\u001b[0m\u001b[1;33m:\u001b[0m \u001b[1;31m# queryImage\u001b[0m\u001b[1;33m\u001b[0m\u001b[1;33m\u001b[0m\u001b[0m\n\u001b[0;32m     19\u001b[0m                 \u001b[0mimg2\u001b[0m \u001b[1;33m=\u001b[0m \u001b[0mcv2\u001b[0m\u001b[1;33m.\u001b[0m\u001b[0mimread\u001b[0m\u001b[1;33m(\u001b[0m\u001b[0mimg2\u001b[0m\u001b[1;33m)\u001b[0m \u001b[1;31m# trainImage\u001b[0m\u001b[1;33m\u001b[0m\u001b[1;33m\u001b[0m\u001b[0m\n\u001b[1;32m---> 20\u001b[1;33m                 \u001b[0mkp2\u001b[0m\u001b[1;33m,\u001b[0m \u001b[0mdes2\u001b[0m \u001b[1;33m=\u001b[0m \u001b[0msift\u001b[0m\u001b[1;33m.\u001b[0m\u001b[0mdetectAndCompute\u001b[0m\u001b[1;33m(\u001b[0m\u001b[0mimg2\u001b[0m\u001b[1;33m,\u001b[0m\u001b[1;32mNone\u001b[0m\u001b[1;33m)\u001b[0m\u001b[1;33m\u001b[0m\u001b[1;33m\u001b[0m\u001b[0m\n\u001b[0m\u001b[0;32m     21\u001b[0m             \u001b[1;31m# Initiate SIFT detector\u001b[0m\u001b[1;33m\u001b[0m\u001b[1;33m\u001b[0m\u001b[1;33m\u001b[0m\u001b[0m\n\u001b[0;32m     22\u001b[0m             \u001b[1;31m#sift = cv2.SIFT()\u001b[0m\u001b[1;33m\u001b[0m\u001b[1;33m\u001b[0m\u001b[1;33m\u001b[0m\u001b[0m\n",
      "\u001b[1;31mKeyboardInterrupt\u001b[0m: "
     ]
    }
   ],
   "source": [
    "file1 = open(\"/Users/Miloni Mittal/Desktop/Acads Stuff/Fourth Year/ML/Class Project/temp.txt\", \"w\")\n",
    "path1 = '/Users/Miloni Mittal/Desktop/Acads Stuff/Fourth Year/ML/Class Project/classProject01'\n",
    "df = pd.DataFrame(columns = ['Img1_Name', 'Img2_Name', 'Person1_ID', 'Person2_ID', \"Genuine?\", \"Score\"])\n",
    "\n",
    "sift = cv2.xfeatures2d.SIFT_create()\n",
    "bf = cv2.BFMatcher()\n",
    "for images in natsorted(os.listdir(path1)):\n",
    "    str1 = str(images)\n",
    "    img1 = os.path.join(path1, images)\n",
    "    #print(img1)\n",
    "    img1 = cv2.imread(img1)\n",
    "    kp1, des1 = sift.detectAndCompute(img1,None)\n",
    "    if len(kp1)>0:\n",
    "        for image in natsorted(os.listdir(path1)):\n",
    "            img2 = os.path.join(path1, image)\n",
    "        #print(img2)\n",
    "            str2 = str(image)\n",
    "            if (img1 != img2): # queryImage\n",
    "                img2 = cv2.imread(img2) # trainImage\n",
    "                kp2, des2 = sift.detectAndCompute(img2,None)\n",
    "            # Initiate SIFT detector\n",
    "            #sift = cv2.SIFT()            \n",
    "            # find the keypoints and descriptors with SIFT\n",
    "            # BFMatcher with default params\n",
    "                if (len(kp1)!=0 and len(kp2)!=0 and len(kp1)!=1 and len(kp2)!=1):\n",
    "                    matches12 = bf.knnMatch(des1,des2, k=2)\n",
    "#                     dis = bf.match(des1,des2)\n",
    "                    matches21 = bf.knnMatch(des2,des1, k=2)\n",
    "                #----------------------------------------------\n",
    "                    number_keypoints = 0\n",
    "                    if len(kp1) <= len(kp2):\n",
    "                        number_keypoints = len(kp1)\n",
    "                    else:\n",
    "                        number_keypoints = len(kp2)\n",
    "                    good12 = []\n",
    "                    good21 = []\n",
    "                    for m,n in matches12:\n",
    "                        if m.distance < 0.7*n.distance:\n",
    "                            good12.append([m])\n",
    "                    for m,n in matches21:\n",
    "                        if m.distance < 0.7*n.distance:\n",
    "                            good21.append([m])\n",
    "                #print(\"Keypoints 1ST Image: \" + str(len(kp1)))\n",
    "                #print(\"Keypoints 2ND Image: \" + str(len(kp2)))\n",
    "                #print(\"GOOD Matches:\", len(good))\n",
    "                    score = min(len(good12)/number_keypoints, len(good21)/number_keypoints)\n",
    "                    ID1=str1.split(\"_\")[0]\n",
    "                    ID2=str2.split(\"_\")[0]\n",
    "                    new_row={'Img1_Name':str1, 'Img2_Name':str2, 'Person1_ID':ID1 ,'Person2_ID':ID2 ,\"Genuine?\":ID1==ID2, 'Score':score}\n",
    "                    df = df.append(new_row, ignore_index = True) \n",
    "                #print(\"How good it's the match: \", score) #* 100, \"%\")\n",
    "                    file1.write( str1 + \" \" + str2 + \" \" + str(score)+\"\\n\")\n",
    "                    print(str1 + \" \" + str2 + \" \" + str(score)) # replace with 'cos' if using cosine similarity\n",
    "file1.close()"
   ]
  },
  {
   "cell_type": "code",
   "execution_count": null,
   "metadata": {},
   "outputs": [],
   "source": [
    "df.to_csv('run1.csv')"
   ]
  },
  {
   "cell_type": "code",
   "execution_count": 2,
   "metadata": {},
   "outputs": [],
   "source": [
    "df=pd.read_csv('run1.csv')"
   ]
  },
  {
   "cell_type": "code",
   "execution_count": 3,
   "metadata": {},
   "outputs": [
    {
     "data": {
      "text/html": [
       "<div>\n",
       "<style scoped>\n",
       "    .dataframe tbody tr th:only-of-type {\n",
       "        vertical-align: middle;\n",
       "    }\n",
       "\n",
       "    .dataframe tbody tr th {\n",
       "        vertical-align: top;\n",
       "    }\n",
       "\n",
       "    .dataframe thead th {\n",
       "        text-align: right;\n",
       "    }\n",
       "</style>\n",
       "<table border=\"1\" class=\"dataframe\">\n",
       "  <thead>\n",
       "    <tr style=\"text-align: right;\">\n",
       "      <th></th>\n",
       "      <th>Unnamed: 0</th>\n",
       "      <th>Img1_Name</th>\n",
       "      <th>Img2_Name</th>\n",
       "      <th>Person1_ID</th>\n",
       "      <th>Person2_ID</th>\n",
       "      <th>Genuine?</th>\n",
       "      <th>Score</th>\n",
       "    </tr>\n",
       "  </thead>\n",
       "  <tbody>\n",
       "    <tr>\n",
       "      <th>0</th>\n",
       "      <td>0</td>\n",
       "      <td>1_P1_S1_1.jpg</td>\n",
       "      <td>1_P1_S1_1.jpg</td>\n",
       "      <td>1</td>\n",
       "      <td>1</td>\n",
       "      <td>True</td>\n",
       "      <td>1.00</td>\n",
       "    </tr>\n",
       "    <tr>\n",
       "      <th>1</th>\n",
       "      <td>1</td>\n",
       "      <td>1_P1_S1_1.jpg</td>\n",
       "      <td>1_P1_S1_2.jpg</td>\n",
       "      <td>1</td>\n",
       "      <td>1</td>\n",
       "      <td>True</td>\n",
       "      <td>0.00</td>\n",
       "    </tr>\n",
       "    <tr>\n",
       "      <th>2</th>\n",
       "      <td>2</td>\n",
       "      <td>1_P1_S1_1.jpg</td>\n",
       "      <td>1_P1_S1_3.jpg</td>\n",
       "      <td>1</td>\n",
       "      <td>1</td>\n",
       "      <td>True</td>\n",
       "      <td>0.00</td>\n",
       "    </tr>\n",
       "    <tr>\n",
       "      <th>3</th>\n",
       "      <td>3</td>\n",
       "      <td>1_P1_S1_1.jpg</td>\n",
       "      <td>1_P1_S1_4.jpg</td>\n",
       "      <td>1</td>\n",
       "      <td>1</td>\n",
       "      <td>True</td>\n",
       "      <td>0.00</td>\n",
       "    </tr>\n",
       "    <tr>\n",
       "      <th>4</th>\n",
       "      <td>4</td>\n",
       "      <td>1_P1_S1_1.jpg</td>\n",
       "      <td>1_P1_S1_5.jpg</td>\n",
       "      <td>1</td>\n",
       "      <td>1</td>\n",
       "      <td>True</td>\n",
       "      <td>0.04</td>\n",
       "    </tr>\n",
       "  </tbody>\n",
       "</table>\n",
       "</div>"
      ],
      "text/plain": [
       "   Unnamed: 0      Img1_Name      Img2_Name  Person1_ID  Person2_ID  Genuine?  \\\n",
       "0           0  1_P1_S1_1.jpg  1_P1_S1_1.jpg           1           1      True   \n",
       "1           1  1_P1_S1_1.jpg  1_P1_S1_2.jpg           1           1      True   \n",
       "2           2  1_P1_S1_1.jpg  1_P1_S1_3.jpg           1           1      True   \n",
       "3           3  1_P1_S1_1.jpg  1_P1_S1_4.jpg           1           1      True   \n",
       "4           4  1_P1_S1_1.jpg  1_P1_S1_5.jpg           1           1      True   \n",
       "\n",
       "   Score  \n",
       "0   1.00  \n",
       "1   0.00  \n",
       "2   0.00  \n",
       "3   0.00  \n",
       "4   0.04  "
      ]
     },
     "execution_count": 3,
     "metadata": {},
     "output_type": "execute_result"
    }
   ],
   "source": [
    "df.head()"
   ]
  },
  {
   "cell_type": "code",
   "execution_count": 4,
   "metadata": {},
   "outputs": [
    {
     "name": "stdout",
     "output_type": "stream",
     "text": [
      "CRR = 0.3944954128440367\n"
     ]
    }
   ],
   "source": [
    "ct=0\n",
    "df=df[df['Score'] != 1.0]\n",
    "       \n",
    "for i in list(set(df['Img1_Name'])):\n",
    "    df_temp=df[df['Img1_Name']==i]\n",
    "    maxScore=max(df_temp['Score'])\n",
    "    maxScore_indices = [k for k, x in enumerate(df_temp['Score']) if x == maxScore]\n",
    "    for j in maxScore_indices:\n",
    "        if (str(df_temp.iloc[j]['Person2_ID'])==i.split('_')[0]):            \n",
    "            ct=ct+1\n",
    "            break\n",
    "print(\"CRR = \"+ str(ct/len(list(set(df['Img1_Name'])))))"
   ]
  },
  {
   "cell_type": "code",
   "execution_count": 5,
   "metadata": {},
   "outputs": [
    {
     "data": {
      "text/plain": [
       "229380"
      ]
     },
     "execution_count": 5,
     "metadata": {},
     "output_type": "execute_result"
    }
   ],
   "source": [
    "genuine=[df['Score'][i] for i in df.index if df['Genuine?'][i]]\n",
    "imposter=[df['Score'][i] for i in df.index if df['Genuine?'][i]==False]\n",
    "genuine_counter=Counter(genuine)\n",
    "imposter_counter=Counter(imposter)\n",
    "genuine_counter.pop(0)\n",
    "imposter_counter.pop(0)"
   ]
  },
  {
   "cell_type": "code",
   "execution_count": 6,
   "metadata": {},
   "outputs": [],
   "source": [
    "genuine_max=max(list(genuine_counter.values()))\n",
    "imposter_max=max(list(imposter_counter.values()))"
   ]
  },
  {
   "cell_type": "code",
   "execution_count": 7,
   "metadata": {},
   "outputs": [
    {
     "data": {
      "image/png": "[encoded data removed]",
      "text/plain": [
       "<Figure size 432x288 with 1 Axes>"
      ]
     },
     "metadata": {
      "needs_background": "light"
     },
     "output_type": "display_data"
    }
   ],
   "source": [
    "# genuine_imposter_hist\n",
    "plt.bar(list(genuine_counter.keys()), np.array(list(genuine_counter.values()))/genuine_max,color='b',width=0.008, alpha=0.3, label='Genuine')\n",
    "plt.bar(list(imposter_counter.keys()), np.array(list(imposter_counter.values()))/imposter_max, color='y',width=0.008, alpha=0.3, label='Imposter')\n",
    "plt.xlabel('Score') \n",
    "plt.ylabel('Relative Frequency')\n",
    "plt.legend()\n",
    "plt.savefig('run1 genuine_imposter_hist.png')"
   ]
  },
  {
   "cell_type": "code",
   "execution_count": 8,
   "metadata": {},
   "outputs": [],
   "source": [
    "df_th=df.copy()\n",
    "threshold_list=np.round_(np.arange (0.001, 1, 0.002), decimals = 3) \n",
    "for th in threshold_list:\n",
    "    th_str=str(th)\n",
    "    true_index_list=df_th.Score[df_th.Score>th].index\n",
    "    df_th['Th='+th_str]=False\n",
    "    df_th.loc[true_index_list,'Th='+th_str] = True"
   ]
  },
  {
   "cell_type": "code",
   "execution_count": 9,
   "metadata": {},
   "outputs": [],
   "source": [
    "dict_th={}\n",
    "dict_eer={}\n",
    "neg=len(df_th[df_th['Genuine?'] == False])\n",
    "pos=len(df_th[df_th['Genuine?'] == True])  \n",
    "graph_fp=[]\n",
    "graph_tp=[]\n",
    "graph_far=[]\n",
    "graph_frr=[]\n",
    "for th in threshold_list:\n",
    "    count_fp=0\n",
    "    count_tp=0\n",
    "    count_far=0\n",
    "    count_frr=0\n",
    "    th_str=str(th)\n",
    "    genuine_np= np.array(df_th['Genuine?'])\n",
    "    th_np=np.array(df_th['Th='+th_str])\n",
    "    \n",
    "    \n",
    "    fp=np.logical_and(genuine_np==False,th_np==True)\n",
    "    unique, counts = np.unique(fp, return_counts=True)\n",
    "    if True in dict(zip(unique, counts)):\n",
    "        count_fp=dict(zip(unique, counts))[True]\n",
    "    else:\n",
    "        count_fp=0\n",
    "    \n",
    "    tp=np.logical_and(genuine_np==True,th_np==True)\n",
    "    unique, counts = np.unique(tp, return_counts=True)\n",
    "    if True in dict(zip(unique, counts)):\n",
    "        count_tp=dict(zip(unique, counts))[True]\n",
    "    else:\n",
    "        count_tp=0\n",
    "    \n",
    "    far=np.logical_and(genuine_np==False,th_np==True)\n",
    "    unique, counts = np.unique(far, return_counts=True)\n",
    "    if True in dict(zip(unique, counts)):\n",
    "        count_far=dict(zip(unique, counts))[True]\n",
    "    else:\n",
    "        count_far=0\n",
    "    \n",
    "    frr=np.logical_and(genuine_np==True,th_np==False)\n",
    "    unique, counts = np.unique(frr, return_counts=True)\n",
    "    if True in dict(zip(unique, counts)):\n",
    "        count_frr=dict(zip(unique, counts))[True]\n",
    "    else:\n",
    "        count_frr=0\n",
    "    \n",
    "    dict_th[th]=[count_fp/neg,count_tp/pos]\n",
    "    graph_fp.append(dict_th[th][0])\n",
    "    graph_tp.append(dict_th[th][1])\n",
    "    dict_eer[th]=[count_far/neg,count_frr/pos]\n",
    "    graph_far.append(dict_eer[th][0])\n",
    "    graph_frr.append(dict_eer[th][1])"
   ]
  },
  {
   "cell_type": "code",
   "execution_count": 10,
   "metadata": {},
   "outputs": [
    {
     "data": {
      "image/png": "[encoded data removed]",
      "text/plain": [
       "<Figure size 432x288 with 1 Axes>"
      ]
     },
     "metadata": {
      "needs_background": "light"
     },
     "output_type": "display_data"
    }
   ],
   "source": [
    "# tp_fp\n",
    "plt.plot(graph_fp, graph_tp) \n",
    "plt.xlabel('False Positive Rate ') \n",
    "plt.ylabel('True Positive Rate')\n",
    "plt.savefig('run1 tp_fp.png')"
   ]
  },
  {
   "cell_type": "code",
   "execution_count": 11,
   "metadata": {},
   "outputs": [
    {
     "data": {
      "image/png": "[encoded data removed]",
      "text/plain": [
       "<Figure size 432x288 with 1 Axes>"
      ]
     },
     "metadata": {
      "needs_background": "light"
     },
     "output_type": "display_data"
    }
   ],
   "source": [
    "# far/frr_threshold\n",
    "plt.plot(threshold_list, graph_far, label='False Acceptance Rate')\n",
    "plt.plot(threshold_list, graph_frr, label='False Rejection Rate')\n",
    "plt.xlabel(\"Thresholds\")\n",
    "plt.ylabel(\"Value of FAR/FRR\")\n",
    "plt.legend()\n",
    "plt.grid()\n",
    "plt.savefig('run1 eer.png')"
   ]
  },
  {
   "cell_type": "code",
   "execution_count": 12,
   "metadata": {},
   "outputs": [
    {
     "data": {
      "image/png": "[encoded data removed]",
      "text/plain": [
       "<Figure size 432x288 with 1 Axes>"
      ]
     },
     "metadata": {
      "needs_background": "light"
     },
     "output_type": "display_data"
    }
   ],
   "source": [
    "# roc\n",
    "plt.plot(graph_far, graph_frr)\n",
    "plt.plot([0, 1], [0, 1], color = 'black', linewidth = 1)\n",
    "plt.xlabel(\"FAR\")\n",
    "plt.ylabel(\"FRR\")\n",
    "plt.savefig('run1 roc.png')"
   ]
  },
  {
   "cell_type": "code",
   "execution_count": 13,
   "metadata": {},
   "outputs": [
    {
     "ename": "AttributeError",
     "evalue": "type object 'object' has no attribute 'dtype'",
     "output_type": "error",
     "traceback": [
      "\u001b[1;31m---------------------------------------------------------------------------\u001b[0m",
      "\u001b[1;31mAttributeError\u001b[0m                            Traceback (most recent call last)",
      "\u001b[1;32m<ipython-input-13-e705824d9be2>\u001b[0m in \u001b[0;36m<module>\u001b[1;34m\u001b[0m\n\u001b[1;32m----> 1\u001b[1;33m \u001b[0mdf_perf_para\u001b[0m\u001b[1;33m=\u001b[0m \u001b[0mpd\u001b[0m\u001b[1;33m.\u001b[0m\u001b[0mDataFrame\u001b[0m\u001b[1;33m(\u001b[0m\u001b[0mcolumns\u001b[0m \u001b[1;33m=\u001b[0m \u001b[1;33m[\u001b[0m\u001b[1;34m'Threshold'\u001b[0m\u001b[1;33m,\u001b[0m \u001b[1;34m'FP Rate'\u001b[0m\u001b[1;33m,\u001b[0m \u001b[1;34m'TP Rate'\u001b[0m\u001b[1;33m,\u001b[0m \u001b[1;34m'FAR'\u001b[0m\u001b[1;33m,\u001b[0m \u001b[1;34m'FRR'\u001b[0m\u001b[1;33m]\u001b[0m\u001b[1;33m)\u001b[0m\u001b[1;33m\u001b[0m\u001b[1;33m\u001b[0m\u001b[0m\n\u001b[0m\u001b[0;32m      2\u001b[0m \u001b[1;32mfor\u001b[0m \u001b[0mth\u001b[0m \u001b[1;32min\u001b[0m \u001b[0mthreshold_list\u001b[0m\u001b[1;33m:\u001b[0m\u001b[1;33m\u001b[0m\u001b[1;33m\u001b[0m\u001b[0m\n\u001b[0;32m      3\u001b[0m     \u001b[0mnew_row\u001b[0m\u001b[1;33m=\u001b[0m\u001b[1;33m{\u001b[0m\u001b[1;34m'Threshold'\u001b[0m\u001b[1;33m:\u001b[0m\u001b[0mth\u001b[0m\u001b[1;33m,\u001b[0m \u001b[1;34m'FP Rate'\u001b[0m\u001b[1;33m:\u001b[0m\u001b[0mdict_th\u001b[0m\u001b[1;33m[\u001b[0m\u001b[0mth\u001b[0m\u001b[1;33m]\u001b[0m\u001b[1;33m[\u001b[0m\u001b[1;36m0\u001b[0m\u001b[1;33m]\u001b[0m\u001b[1;33m,\u001b[0m \u001b[1;34m'TP Rate'\u001b[0m\u001b[1;33m:\u001b[0m\u001b[0mdict_th\u001b[0m\u001b[1;33m[\u001b[0m\u001b[0mth\u001b[0m\u001b[1;33m]\u001b[0m\u001b[1;33m[\u001b[0m\u001b[1;36m1\u001b[0m\u001b[1;33m]\u001b[0m\u001b[1;33m,\u001b[0m \u001b[1;34m'FAR'\u001b[0m\u001b[1;33m:\u001b[0m\u001b[0mdict_eer\u001b[0m\u001b[1;33m[\u001b[0m\u001b[0mth\u001b[0m\u001b[1;33m]\u001b[0m\u001b[1;33m[\u001b[0m\u001b[1;36m0\u001b[0m\u001b[1;33m]\u001b[0m\u001b[1;33m,\u001b[0m \u001b[1;34m'FRR'\u001b[0m\u001b[1;33m:\u001b[0m\u001b[0mdict_eer\u001b[0m\u001b[1;33m[\u001b[0m\u001b[0mth\u001b[0m\u001b[1;33m]\u001b[0m\u001b[1;33m[\u001b[0m\u001b[1;36m1\u001b[0m\u001b[1;33m]\u001b[0m\u001b[1;33m}\u001b[0m\u001b[1;33m\u001b[0m\u001b[1;33m\u001b[0m\u001b[0m\n\u001b[0;32m      4\u001b[0m     \u001b[0mdf_perf_para\u001b[0m \u001b[1;33m=\u001b[0m \u001b[0mdf_perf_para\u001b[0m\u001b[1;33m.\u001b[0m\u001b[0mappend\u001b[0m\u001b[1;33m(\u001b[0m\u001b[0mnew_row\u001b[0m\u001b[1;33m,\u001b[0m \u001b[0mignore_index\u001b[0m \u001b[1;33m=\u001b[0m \u001b[1;32mTrue\u001b[0m\u001b[1;33m)\u001b[0m\u001b[1;33m\u001b[0m\u001b[1;33m\u001b[0m\u001b[0m\n",
      "\u001b[1;32m~\\Anaconda3\\ANACONDA\\lib\\site-packages\\pandas\\core\\frame.py\u001b[0m in \u001b[0;36m__init__\u001b[1;34m(self, data, index, columns, dtype, copy)\u001b[0m\n\u001b[0;32m    346\u001b[0m                                  dtype=dtype, copy=copy)\n\u001b[0;32m    347\u001b[0m         \u001b[1;32melif\u001b[0m \u001b[0misinstance\u001b[0m\u001b[1;33m(\u001b[0m\u001b[0mdata\u001b[0m\u001b[1;33m,\u001b[0m \u001b[0mdict\u001b[0m\u001b[1;33m)\u001b[0m\u001b[1;33m:\u001b[0m\u001b[1;33m\u001b[0m\u001b[1;33m\u001b[0m\u001b[0m\n\u001b[1;32m--> 348\u001b[1;33m             \u001b[0mmgr\u001b[0m \u001b[1;33m=\u001b[0m \u001b[0mself\u001b[0m\u001b[1;33m.\u001b[0m\u001b[0m_init_dict\u001b[0m\u001b[1;33m(\u001b[0m\u001b[0mdata\u001b[0m\u001b[1;33m,\u001b[0m \u001b[0mindex\u001b[0m\u001b[1;33m,\u001b[0m \u001b[0mcolumns\u001b[0m\u001b[1;33m,\u001b[0m \u001b[0mdtype\u001b[0m\u001b[1;33m=\u001b[0m\u001b[0mdtype\u001b[0m\u001b[1;33m)\u001b[0m\u001b[1;33m\u001b[0m\u001b[1;33m\u001b[0m\u001b[0m\n\u001b[0m\u001b[0;32m    349\u001b[0m         \u001b[1;32melif\u001b[0m \u001b[0misinstance\u001b[0m\u001b[1;33m(\u001b[0m\u001b[0mdata\u001b[0m\u001b[1;33m,\u001b[0m \u001b[0mma\u001b[0m\u001b[1;33m.\u001b[0m\u001b[0mMaskedArray\u001b[0m\u001b[1;33m)\u001b[0m\u001b[1;33m:\u001b[0m\u001b[1;33m\u001b[0m\u001b[1;33m\u001b[0m\u001b[0m\n\u001b[0;32m    350\u001b[0m             \u001b[1;32mimport\u001b[0m \u001b[0mnumpy\u001b[0m\u001b[1;33m.\u001b[0m\u001b[0mma\u001b[0m\u001b[1;33m.\u001b[0m\u001b[0mmrecords\u001b[0m \u001b[1;32mas\u001b[0m \u001b[0mmrecords\u001b[0m\u001b[1;33m\u001b[0m\u001b[1;33m\u001b[0m\u001b[0m\n",
      "\u001b[1;32m~\\Anaconda3\\ANACONDA\\lib\\site-packages\\pandas\\core\\frame.py\u001b[0m in \u001b[0;36m_init_dict\u001b[1;34m(self, data, index, columns, dtype)\u001b[0m\n\u001b[0;32m    449\u001b[0m                     \u001b[0mnan_dtype\u001b[0m \u001b[1;33m=\u001b[0m \u001b[0mdtype\u001b[0m\u001b[1;33m\u001b[0m\u001b[1;33m\u001b[0m\u001b[0m\n\u001b[0;32m    450\u001b[0m                 v = construct_1d_arraylike_from_scalar(np.nan, len(index),\n\u001b[1;32m--> 451\u001b[1;33m                                                        nan_dtype)\n\u001b[0m\u001b[0;32m    452\u001b[0m                 \u001b[0marrays\u001b[0m\u001b[1;33m.\u001b[0m\u001b[0mloc\u001b[0m\u001b[1;33m[\u001b[0m\u001b[0mmissing\u001b[0m\u001b[1;33m]\u001b[0m \u001b[1;33m=\u001b[0m \u001b[1;33m[\u001b[0m\u001b[0mv\u001b[0m\u001b[1;33m]\u001b[0m \u001b[1;33m*\u001b[0m \u001b[0mmissing\u001b[0m\u001b[1;33m.\u001b[0m\u001b[0msum\u001b[0m\u001b[1;33m(\u001b[0m\u001b[1;33m)\u001b[0m\u001b[1;33m\u001b[0m\u001b[1;33m\u001b[0m\u001b[0m\n\u001b[0;32m    453\u001b[0m \u001b[1;33m\u001b[0m\u001b[0m\n",
      "\u001b[1;32m~\\Anaconda3\\ANACONDA\\lib\\site-packages\\pandas\\core\\dtypes\\cast.py\u001b[0m in \u001b[0;36mconstruct_1d_arraylike_from_scalar\u001b[1;34m(value, length, dtype)\u001b[0m\n\u001b[0;32m   1194\u001b[0m     \u001b[1;32melse\u001b[0m\u001b[1;33m:\u001b[0m\u001b[1;33m\u001b[0m\u001b[1;33m\u001b[0m\u001b[0m\n\u001b[0;32m   1195\u001b[0m         \u001b[1;32mif\u001b[0m \u001b[1;32mnot\u001b[0m \u001b[0misinstance\u001b[0m\u001b[1;33m(\u001b[0m\u001b[0mdtype\u001b[0m\u001b[1;33m,\u001b[0m \u001b[1;33m(\u001b[0m\u001b[0mnp\u001b[0m\u001b[1;33m.\u001b[0m\u001b[0mdtype\u001b[0m\u001b[1;33m,\u001b[0m \u001b[0mtype\u001b[0m\u001b[1;33m(\u001b[0m\u001b[0mnp\u001b[0m\u001b[1;33m.\u001b[0m\u001b[0mdtype\u001b[0m\u001b[1;33m)\u001b[0m\u001b[1;33m)\u001b[0m\u001b[1;33m)\u001b[0m\u001b[1;33m:\u001b[0m\u001b[1;33m\u001b[0m\u001b[1;33m\u001b[0m\u001b[0m\n\u001b[1;32m-> 1196\u001b[1;33m             \u001b[0mdtype\u001b[0m \u001b[1;33m=\u001b[0m \u001b[0mdtype\u001b[0m\u001b[1;33m.\u001b[0m\u001b[0mdtype\u001b[0m\u001b[1;33m\u001b[0m\u001b[1;33m\u001b[0m\u001b[0m\n\u001b[0m\u001b[0;32m   1197\u001b[0m \u001b[1;33m\u001b[0m\u001b[0m\n\u001b[0;32m   1198\u001b[0m         \u001b[1;31m# coerce if we have nan for an integer dtype\u001b[0m\u001b[1;33m\u001b[0m\u001b[1;33m\u001b[0m\u001b[1;33m\u001b[0m\u001b[0m\n",
      "\u001b[1;31mAttributeError\u001b[0m: type object 'object' has no attribute 'dtype'"
     ]
    }
   ],
   "source": [
    "df_perf_para= pd.DataFrame(columns = ['Threshold', 'FP Rate', 'TP Rate', 'FAR', 'FRR']) \n",
    "for th in threshold_list:\n",
    "    new_row={'Threshold':th, 'FP Rate':dict_th[th][0], 'TP Rate':dict_th[th][1], 'FAR':dict_eer[th][0], 'FRR':dict_eer[th][1]}\n",
    "    df_perf_para = df_perf_para.append(new_row, ignore_index = True) "
   ]
  },
  {
   "cell_type": "code",
   "execution_count": null,
   "metadata": {},
   "outputs": [],
   "source": [
    "df_perf_para['Accuracy']=[100-((df_perf_para['FAR'][i]+df_perf_para['FRR'][i])*100)/2 for i in df_perf_para.index]"
   ]
  },
  {
   "cell_type": "code",
   "execution_count": null,
   "metadata": {},
   "outputs": [],
   "source": [
    "eer_index=np.argmin(np.abs(np.array(df_perf_para['FAR'])-np.array(df_perf_para['FRR'])))\n",
    "print('FAR at Least Differing Error Rate= '+ str(df_perf_para.iloc[eer_index]['FAR']))\n",
    "print('FRR at Least Differing Error Rate= '+ str(df_perf_para.iloc[eer_index]['FRR']))\n",
    "print('Threshold at Least Differing Error Rate= '+ str(df_perf_para.iloc[eer_index]['Threshold']))\n",
    "print('Accuracy= '+str(max(df_perf_para['Accuracy']))+'%')"
   ]
  },
  {
   "cell_type": "code",
   "execution_count": null,
   "metadata": {},
   "outputs": [],
   "source": [
    "df_perf_para.to_csv('performance1.csv')"
   ]
  },
  {
   "cell_type": "code",
   "execution_count": null,
   "metadata": {},
   "outputs": [],
   "source": [
    "df_perf_para"
   ]
  },
  {
   "cell_type": "code",
   "execution_count": null,
   "metadata": {},
   "outputs": [],
   "source": []
  }
 ],
 "metadata": {
  "kernelspec": {
   "display_name": "Python 3",
   "language": "python",
   "name": "python3"
  },
  "language_info": {
   "codemirror_mode": {
    "name": "ipython",
    "version": 3
   },
   "file_extension": ".py",
   "mimetype": "text/x-python",
   "name": "python",
   "nbconvert_exporter": "python",
   "pygments_lexer": "ipython3",
   "version": "3.7.3"
  }
 },
 "nbformat": 4,
 "nbformat_minor": 2
}
